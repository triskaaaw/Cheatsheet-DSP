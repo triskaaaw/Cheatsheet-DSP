{
 "cells": [
  {
   "cell_type": "code",
   "execution_count": 1,
   "id": "443a2405-5d73-41f4-b0dd-5d2dd6e0a891",
   "metadata": {},
   "outputs": [],
   "source": [
    "import csv"
   ]
  },
  {
   "cell_type": "code",
   "execution_count": 2,
   "id": "49a05590-f12b-4587-aa9d-566271331051",
   "metadata": {},
   "outputs": [],
   "source": [
    "def csv_to_sql(csv_file, table_name):\n",
    "    # Baca file CSV\n",
    "    with open(csv_file, 'r') as file:\n",
    "        csv_data = csv.reader(file)\n",
    "        headers = next(csv_data)  # Ambil header\n",
    "\n",
    "        # Buat query SQL CREATE TABLE\n",
    "        create_table_query = f\"CREATE TABLE {table_name} (\"\n",
    "        for header in headers:\n",
    "            create_table_query += f\"{header} TEXT,\"\n",
    "        create_table_query = create_table_query[:-1] + \");\"\n",
    "\n",
    "        # Buat query SQL INSERT\n",
    "        insert_queries = []\n",
    "        for row in csv_data:\n",
    "            insert_query = f\"INSERT INTO {table_name} VALUES (\"\n",
    "            for value in row:\n",
    "                insert_query += f\"'{value}',\"\n",
    "            insert_query = insert_query[:-1] + \");\"\n",
    "            insert_queries.append(insert_query)\n",
    "\n",
    "    return create_table_query, insert_queries"
   ]
  },
  {
   "cell_type": "code",
   "execution_count": 3,
   "id": "e82af2ad-a118-484e-9527-098ce245790c",
   "metadata": {},
   "outputs": [],
   "source": [
    "def write_sql_file(create_table_query, insert_queries, sql_file):\n",
    "    with open(sql_file, 'w') as file:\n",
    "        # Tulis query CREATE TABLE ke file\n",
    "        file.write(create_table_query + \"\\n\\n\")\n",
    "\n",
    "        # Tulis query INSERT ke file\n",
    "        for query in insert_queries:\n",
    "            file.write(query + \"\\n\")"
   ]
  },
  {
   "cell_type": "code",
   "execution_count": 4,
   "id": "3bba2231-8fe9-4604-9bf3-48ae17f352ba",
   "metadata": {},
   "outputs": [],
   "source": [
    "if __name__ == \"__main__\":\n",
    "    csv_file = \"OnlineRetail.csv\"  \n",
    "    table_name = \"OnlineRetail\"    \n",
    "    sql_file = \"OnlineRetail.sql\"   \n",
    "\n",
    "    create_table_query, insert_queries = csv_to_sql(csv_file, table_name)\n",
    "    write_sql_file(create_table_query, insert_queries, sql_file)"
   ]
  },
  {
   "cell_type": "code",
   "execution_count": null,
   "id": "fd976e10-3b76-4a48-b5e6-5cdcc9be86af",
   "metadata": {},
   "outputs": [],
   "source": []
  }
 ],
 "metadata": {
  "kernelspec": {
   "display_name": "Python 3 (ipykernel)",
   "language": "python",
   "name": "python3"
  },
  "language_info": {
   "codemirror_mode": {
    "name": "ipython",
    "version": 3
   },
   "file_extension": ".py",
   "mimetype": "text/x-python",
   "name": "python",
   "nbconvert_exporter": "python",
   "pygments_lexer": "ipython3",
   "version": "3.9.11"
  }
 },
 "nbformat": 4,
 "nbformat_minor": 5
}
